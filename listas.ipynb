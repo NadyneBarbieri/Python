{
  "cells": [
    {
      "cell_type": "markdown",
      "metadata": {
        "id": "view-in-github",
        "colab_type": "text"
      },
      "source": [
        "<a href=\"https://colab.research.google.com/github/NadyneBarbieri/Python/blob/main/listas.ipynb\" target=\"_parent\"><img src=\"https://colab.research.google.com/assets/colab-badge.svg\" alt=\"Open In Colab\"/></a>"
      ]
    },
    {
      "cell_type": "markdown",
      "source": [
        "# Listas"
      ],
      "metadata": {
        "id": "P0Ct5QPrbVYk"
      }
    },
    {
      "cell_type": "code",
      "source": [
        "#lista preenchida estaticamente\n",
        "lista_estatica = [\"xpto\", True]\n"
      ],
      "metadata": {
        "id": "ohRbr4v8bZW4"
      },
      "execution_count": 7,
      "outputs": []
    },
    {
      "cell_type": "code",
      "source": [
        "\n",
        "#lista preenchida dinamicamente\n",
        "lista_dinamica = [input(\"Digite o usuário: \"), str(input(\"Está logado? \"))]\n"
      ],
      "metadata": {
        "id": "WtXKah-wbeLf",
        "outputId": "2c4b1181-32ef-4424-b041-1353ddbba291",
        "colab": {
          "base_uri": "https://localhost:8080/"
        }
      },
      "execution_count": 13,
      "outputs": [
        {
          "name": "stdout",
          "output_type": "stream",
          "text": [
            "Digite o usuário: Nadyne\n",
            "Está logado? Nao\n"
          ]
        }
      ]
    },
    {
      "cell_type": "code",
      "source": [
        "lista_vazia = []"
      ],
      "metadata": {
        "id": "HFDL34ZFcDJe"
      },
      "execution_count": null,
      "outputs": []
    },
    {
      "cell_type": "code",
      "source": [
        "#.append é um recurso em Python que permite adicionar um elemento ao final de uma lista existente.\n",
        "inventario=[]\n",
        "resposta=\"S\"\n",
        "while resposta==\"S\":\n",
        "  inventario.append(input(\"Equipamento: \"))\n",
        "  inventario.append(float(input(\"Valor: \")))\n",
        "  inventario.append(int(input(\"Número Serial: \")))\n",
        "  inventario.append(input(\"Departamento: \"))\n",
        "  resposta=input('Digite \"S\" para continuar:').upper()\n",
        "#upper converte todos os caracteres alfabéticos na cadeia em letras maiúsculas\n",
        "for elemento in inventario:\n",
        "  print(elemento)"
      ],
      "metadata": {
        "id": "9u-p17ZTcJcZ",
        "outputId": "6b3bb6a9-1580-447d-d666-ec71bee687d1",
        "colab": {
          "base_uri": "https://localhost:8080/"
        }
      },
      "execution_count": 1,
      "outputs": [
        {
          "output_type": "stream",
          "name": "stdout",
          "text": [
            "Equipamento: capacete\n",
            "Valor: 100\n",
            "Número Serial: 1\n",
            "Departamento: sei la\n",
            "Digite \"S\" para continuar:s\n",
            "Equipamento: luva\n",
            "Valor: 30\n",
            "Número Serial: 2\n",
            "Departamento: sei la\n",
            "Digite \"S\" para continuar:n\n",
            "capacete\n",
            "100.0\n",
            "1\n",
            "sei la\n",
            "luva\n",
            "30.0\n",
            "2\n",
            "sei la\n"
          ]
        }
      ]
    },
    {
      "cell_type": "code",
      "source": [
        "equipamentos = []\n",
        "valores = []\n",
        "seriais = []\n",
        "departamentos = []\n",
        "resposta = \"S\"\n",
        "while resposta == \"S\":\n",
        "  equipamentos.append(input(\"Equipamento: \"))\n",
        "  valores.append(float(input(\"Valor: \")))\n",
        "  seriais.append(int(input(\"Número Serial: \")))\n",
        "  departamentos.append(input(\"Departamento: \"))\n",
        "  resposta = input('Digite \"S\" para continuar: ').upper()\n",
        "#\n",
        "for indice in range(0,len(equipamentos)):\n",
        "  print(\"Equipamento..: \", (indice+1))\n",
        "  print(\"Nome.........: \", equipamentos[indice])\n",
        "  print(\"Valor........: \", valores[indice])\n",
        "  print(\"Serial.......: \", seriais[indice])\n",
        "  print(\"Departamento.: \", departamentos[indice])"
      ],
      "metadata": {
        "id": "-i091Dyn3tzF",
        "outputId": "e282de16-8c5b-467f-d302-265555670304",
        "colab": {
          "base_uri": "https://localhost:8080/"
        }
      },
      "execution_count": 3,
      "outputs": [
        {
          "output_type": "stream",
          "name": "stdout",
          "text": [
            "Equipamento: capacete\n",
            "Valor: 122\n",
            "Número Serial: 1\n",
            "Departamento: sei la\n",
            "Digite \"S\" para continuar: s\n",
            "Equipamento: qualquer\n",
            "Valor: 233\n",
            "Número Serial: 2\n",
            "Departamento: sei la\n",
            "Digite \"S\" para continuar: b\n",
            "Equipamento..:  1\n",
            "Nome.........:  capacete\n",
            "Valor........:  122.0\n",
            "Serial.......:  1\n",
            "Departamento.:  sei la\n",
            "Equipamento..:  2\n",
            "Nome.........:  qualquer\n",
            "Valor........:  233.0\n",
            "Serial.......:  2\n",
            "Departamento.:  sei la\n"
          ]
        }
      ]
    }
  ],
  "metadata": {
    "colab": {
      "name": "Olá, este é o Colaboratory",
      "toc_visible": true,
      "provenance": [],
      "include_colab_link": true
    },
    "kernelspec": {
      "display_name": "Python 3",
      "name": "python3"
    }
  },
  "nbformat": 4,
  "nbformat_minor": 0
}