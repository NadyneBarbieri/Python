{
  "nbformat": 4,
  "nbformat_minor": 0,
  "metadata": {
    "colab": {
      "provenance": [],
      "mount_file_id": "1dXJkXcvbXp3tcWeASpYBVbiyBI0lYUGM",
      "authorship_tag": "ABX9TyOiIq4Ltyr6hFfCmUgh0gpF",
      "include_colab_link": true
    },
    "kernelspec": {
      "name": "python3",
      "display_name": "Python 3"
    },
    "language_info": {
      "name": "python"
    }
  },
  "cells": [
    {
      "cell_type": "markdown",
      "metadata": {
        "id": "view-in-github",
        "colab_type": "text"
      },
      "source": [
        "<a href=\"https://colab.research.google.com/github/NadyneBarbieri/Python/blob/main/Exercicios.ipynb\" target=\"_parent\"><img src=\"https://colab.research.google.com/assets/colab-badge.svg\" alt=\"Open In Colab\"/></a>"
      ]
    },
    {
      "cell_type": "markdown",
      "source": [
        "# Exercicio 1"
      ],
      "metadata": {
        "id": "IJObp5hVt4-I"
      }
    },
    {
      "cell_type": "code",
      "source": [
        "velocidadeCarro = int(input(\"Digite a velocidade do seu carro:\"))\n",
        "velocidade = velocidadeCarro - 80\n",
        "multa = velocidade * 5\n",
        "if velocidadeCarro > 80:\n",
        "  print('Você foi multado por excesso que velocidade no valor de:', multa, '.')\n",
        "if velocidadeCarro < 80:\n",
        "  print(\"Você esta na velocidade permitida\")\n"
      ],
      "metadata": {
        "colab": {
          "base_uri": "https://localhost:8080/"
        },
        "id": "oCopFLqEpWWs",
        "outputId": "02d9dd1d-1331-4743-b695-f22c20995585"
      },
      "execution_count": null,
      "outputs": [
        {
          "output_type": "stream",
          "name": "stdout",
          "text": [
            "Digite a velocidade do seu carro:90\n",
            "Você foi multado por excesso que velocidade no valor de: 50 .\n"
          ]
        }
      ]
    },
    {
      "cell_type": "markdown",
      "source": [
        "# Exercicio 2"
      ],
      "metadata": {
        "id": "9GuFISQqt922"
      }
    },
    {
      "cell_type": "code",
      "source": [
        "salario = int(input(\"Digite o valor do seu salario:\"))\n",
        "aumento = salario * 10/100\n",
        "aumento2 = salario * 15/100\n",
        "if salario > 1250:\n",
        "  salario = salario + aumento\n",
        "if salario <= 1250:\n",
        "  salario = salario + aumento2\n",
        "print('Seu salario com aumento é de:' ,salario,'.')"
      ],
      "metadata": {
        "colab": {
          "base_uri": "https://localhost:8080/"
        },
        "id": "PSLQ7Gnltb6Q",
        "outputId": "bb809adf-b8cb-4be0-f751-81bf90d6489d"
      },
      "execution_count": null,
      "outputs": [
        {
          "output_type": "stream",
          "name": "stdout",
          "text": [
            "Digite o valor do seu salario:13\n",
            "Seu salario com aumento é de: 14.95 .\n"
          ]
        }
      ]
    },
    {
      "cell_type": "markdown",
      "source": [
        "# Exercicio 3"
      ],
      "metadata": {
        "id": "E1Gcdybnxt_k"
      }
    },
    {
      "cell_type": "code",
      "source": [
        "distancia = int(input(\"Qual é a destancia que deseja percorrer? \"))\n",
        "valor = distancia * 0.50\n",
        "valor2 = distancia * 0.45\n",
        "if distancia < 201:\n",
        "  total = valor\n",
        "else: total = valor2\n",
        "\n",
        "print('O valor a ser cobrado pela viagem é de:',total)"
      ],
      "metadata": {
        "id": "g3Hp_He1x3m-",
        "colab": {
          "base_uri": "https://localhost:8080/"
        },
        "outputId": "8d4bb11a-1380-4d9e-8d31-033fb52dad6a"
      },
      "execution_count": null,
      "outputs": [
        {
          "output_type": "stream",
          "name": "stdout",
          "text": [
            "Qual é a destancia que deseja percorrer? 200\n",
            "O valor a ser cobrado pela viagem é de: 100.0\n"
          ]
        }
      ]
    },
    {
      "cell_type": "markdown",
      "source": [
        "# exercicio 4\n"
      ],
      "metadata": {
        "id": "qaZTEwYWoe-7"
      }
    },
    {
      "cell_type": "code",
      "source": [
        "valor= int(input(\"Qual é o valor da casa?\"))\n",
        "salario= int(input(\"Qual é o valor do seu salario?\"))\n",
        "anos= int(input(\"Em quantos anos Pretende pagar?\"))\n",
        "meses =  valor / anos / 12\n",
        "prestacao =  salario * 30/ 100\n",
        "\n",
        "if meses > prestacao: print(\"Seu emprestimo foi recusado!\")\n",
        "else: print(\"Seu emprestimo foi aceito \")\n",
        "\n",
        "\n",
        "\n"
      ],
      "metadata": {
        "colab": {
          "base_uri": "https://localhost:8080/"
        },
        "id": "CFggLaN6ojBz",
        "outputId": "24d38cd6-341c-46ea-e26f-25038dfd5363"
      },
      "execution_count": null,
      "outputs": [
        {
          "output_type": "stream",
          "name": "stdout",
          "text": [
            "Qual é o valor da casa?50000\n",
            "Qual é o valor do seu salario?5000\n",
            "Em quantos anos Pretende pagar?5\n",
            "Seu emprestimo foi aceito \n"
          ]
        }
      ]
    },
    {
      "cell_type": "markdown",
      "source": [
        "# Exercicio 5"
      ],
      "metadata": {
        "id": "zoZlzWZrdmXv"
      }
    },
    {
      "cell_type": "code",
      "source": [
        "operador = int (input(\"Digite o numero da opção que deseja realizar sendo: opçao 1: soma, opçao 2:subtraçao, opçao 3:multiplicaçao opçao 4: vidivisão\"))\n",
        "numero1 = int(input(\"Digite o primeiro numero:\"))\n",
        "numero2 = int(input(\"Digite o segundo numero:\"))\n",
        "\n",
        "soma =  numero1 + numero2\n",
        "subtracao = numero1 - numero2\n",
        "multiplicacao = numero1 * numero2\n",
        "divisao = numero1 / numero2\n",
        "\n",
        "if operador == 1:print(\"resultado é:\", soma)\n",
        "elif operador == 2: print(\"resultado é:\", subtracao)\n",
        "elif operador == 3: print(\"resultado é:\", multiplicacao)\n",
        "elif operador == 4: print(\"resultado é:\", divisao)\n",
        "else: print(\"Opção invalida\")"
      ],
      "metadata": {
        "colab": {
          "base_uri": "https://localhost:8080/"
        },
        "id": "cU--SBm5drEl",
        "outputId": "2ab1bd19-f3ea-402d-9609-3ac248bb5ae2"
      },
      "execution_count": null,
      "outputs": [
        {
          "output_type": "stream",
          "name": "stdout",
          "text": [
            "Digite o numero da opção que deseja realizar sendo: opçao 1: soma, opçao 2:subtraçao, opçao 3:multiplicaçao opçao 4: vidivisão4\n",
            "Digite o primeiro numero:4\n",
            "Digite o segundo numero:4\n",
            "resultado é: 1.0\n"
          ]
        }
      ]
    },
    {
      "cell_type": "markdown",
      "source": [
        "## exercico 6"
      ],
      "metadata": {
        "id": "0d_V8OQllF_Z"
      }
    },
    {
      "cell_type": "code",
      "source": [
        "instalacao = input(\"Digite o tipo de instalação (R para residencial, I para industrial ou C para comércio): \").upper()\n",
        "instalacao = instalacao[0]\n",
        "kwh = float(input(\"Digite a quantidade de kWh consumidos: \"))\n",
        "\n",
        "if instalacao == \"R\":\n",
        "    if kwh <= 500:\n",
        "        pagar = kwh * 0.40\n",
        "    else:\n",
        "        pagar = kwh * 0.65\n",
        "elif instalacao == \"C\":\n",
        "    if kwh <= 1000:\n",
        "        pagar = kwh * 0.55\n",
        "    else:\n",
        "        pagar = kwh * 0.60\n",
        "\n",
        "elif instalacao == \"I\":\n",
        "    if kwh <= 1000:\n",
        "        pagar = kwh * 0.55\n",
        "    else:\n",
        "        pagar = kwh * 0.60\n",
        "print(\"O preço a pagar é R$ {:.2f}\".format(pagar))"
      ],
      "metadata": {
        "colab": {
          "base_uri": "https://localhost:8080/"
        },
        "id": "f32zHSIllJN4",
        "outputId": "d1dc3ff4-9324-495b-a82a-b7b71c433351"
      },
      "execution_count": null,
      "outputs": [
        {
          "output_type": "stream",
          "name": "stdout",
          "text": [
            "Digite o tipo de instalação (R para residencial, I para industrial ou C para comércio): re\n",
            "Digite a quantidade de kWh consumidos: 23\n",
            "O preço a pagar é R$ 9.20\n"
          ]
        }
      ]
    }
  ]
}